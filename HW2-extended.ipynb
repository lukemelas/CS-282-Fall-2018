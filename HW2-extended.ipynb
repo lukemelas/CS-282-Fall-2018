{
 "cells": [
  {
   "cell_type": "markdown",
   "metadata": {},
   "source": [
    "#### Libraries"
   ]
  },
  {
   "cell_type": "code",
   "execution_count": 1,
   "metadata": {
    "colab": {},
    "colab_type": "code",
    "id": "bFcDtGyVhNL3"
   },
   "outputs": [],
   "source": [
    "import copy, time\n",
    "import pdb\n",
    "\n",
    "import numpy as np\n",
    "import matplotlib\n",
    "import matplotlib.pyplot as plt\n",
    "\n",
    "import torch\n",
    "import torch.nn as nn\n",
    "import torch.optim as optim\n",
    "import torch.nn.functional as F\n",
    "from torch.distributions.normal import Normal"
   ]
  },
  {
   "cell_type": "code",
   "execution_count": 2,
   "metadata": {
    "colab": {},
    "colab_type": "code",
    "id": "786-fkD-4wtk"
   },
   "outputs": [],
   "source": [
    "from IPython import display\n",
    "matplotlib.rcParams['figure.figsize'] = [26,8]"
   ]
  },
  {
   "cell_type": "markdown",
   "metadata": {},
   "source": [
    "#### Generic Utils "
   ]
  },
  {
   "cell_type": "code",
   "execution_count": 3,
   "metadata": {},
   "outputs": [],
   "source": [
    "class AverageMeter(object):\n",
    "    \"\"\"Computes and stores the average and current value\"\"\"\n",
    "    def __init__(self):\n",
    "        self.reset()\n",
    "\n",
    "    def reset(self):\n",
    "        self.val = 0; self.avg = 0; self.sum = 0; self.count = 0\n",
    "\n",
    "    def update(self, val, n=1):\n",
    "        self.val = val\n",
    "        self.sum += val * n\n",
    "        self.count += n\n",
    "        self.avg = self.sum / self.count\n",
    "        \n",
    "def check(val, msg):\n",
    "    '''Checks whether val is nan or inf and prints msg if True'''\n",
    "    if (val * 0 != 0): print(msg); pdb.set_trace()\n",
    "        \n",
    "def to_numpy(t):\n",
    "    '''PyTorch tensor to numpy array'''\n",
    "    return t.detach().to('cpu').numpy()"
   ]
  },
  {
   "cell_type": "markdown",
   "metadata": {
    "colab_type": "text",
    "id": "MzwOQHbZ6Xnz"
   },
   "source": [
    "#### Model"
   ]
  },
  {
   "cell_type": "code",
   "execution_count": 18,
   "metadata": {
    "colab": {
     "base_uri": "https://localhost:8080/",
     "height": 518
    },
    "colab_type": "code",
    "id": "SjcVFF82UFed",
    "outputId": "49b99b2c-5991-4601-bbdb-f9ed3f84edc3"
   },
   "outputs": [],
   "source": [
    "# PyTorch\n",
    "device = torch.device('cpu')\n",
    "\n",
    "# Data\n",
    "X = torch.tensor([-2.0,-1.8,-1.0,1,1.8,2]).reshape(-1,1).to(device)\n",
    "Y = - X*X*X*X + 3*X*X + 1\n",
    "\n",
    "# Plotting range\n",
    "x_range = torch.arange(-5,5,0.05).reshape(-1,1)\n",
    "\n",
    "# BBVI hyperparameters\n",
    "fn_samples = 1000 # function samples after convergence\n",
    "learning_rate = 1e-4 # learning rate"
   ]
  },
  {
   "cell_type": "code",
   "execution_count": 19,
   "metadata": {
    "colab": {},
    "colab_type": "code",
    "id": "E3MDmD-J6YGR"
   },
   "outputs": [],
   "source": [
    " class SingleLayerNet(nn.Module):\n",
    "    def __init__(self, h):\n",
    "        super(SingleLayerNet, self).__init__()\n",
    "        self.h = h\n",
    "\n",
    "        # First 31 are means, last 31 are log_stds\n",
    "        self.lambdas = nn.Parameter(torch.zeros(62))\n",
    "        self.lambdas.data[:31].fill_(0.0)\n",
    "        self.lambdas.data[31:].fill_(0.5)\n",
    "        \n",
    "    def forward(self, x, sample):\n",
    "        \n",
    "        # Unroll sample weights\n",
    "        w1 = sample[  :10].reshape(1,10)\n",
    "        b1 = sample[10:20].reshape(1,10)\n",
    "        w2 = sample[20:30].reshape(10,1)\n",
    "        b2 = sample[30:31].reshape( 1,1)\n",
    "        \n",
    "        # Forward pass\n",
    "        x = (x-w1) / b1 # x = x @ w1 + b1 # \n",
    "        x = torch.exp(-x*x) # torch.exp(-(x-w1)*(x-w1) / (b1*b1)) \n",
    "        x = x @ w2 + b2\n",
    "        return x "
   ]
  },
  {
   "cell_type": "code",
   "execution_count": 53,
   "metadata": {},
   "outputs": [],
   "source": [
    "def BBVI(x, y, model, optimizer, num_samples=50, epochs=int(1e4), seed=None):\n",
    "    '''Performs black-box variational inference'''\n",
    "    torch.manual_seed(seed if seed else 10)\n",
    "    N = 31 # number of weights\n",
    "    \n",
    "    # Track ELBO statistics\n",
    "    elbo_meter = AverageMeter()\n",
    "    elbo_hist = []\n",
    "    \n",
    "    # Prior\n",
    "    p_dist = Normal(torch.zeros(N), 3.16 * torch.ones(31)) \n",
    "    \n",
    "    for ix_e in range(epochs):\n",
    "        \n",
    "        # Set up gradients and control variates\n",
    "        gradients = torch.zeros(2*N)\n",
    "        control_f = torch.zeros(2*N,num_samples)\n",
    "        control_h = torch.zeros(2*N,num_samples)\n",
    "        \n",
    "        for ix_s in range(num_samples):\n",
    "            \n",
    "            # Distributions\n",
    "            q_dist = Normal(model.lambdas[:N], F.softplus(model.lambdas[N:])) # torch.exp\n",
    "\n",
    "            # Sample weights\n",
    "            sample = q_dist.sample()\n",
    "                        \n",
    "            # Likelihood\n",
    "            y_hat = model.forward(x, sample)\n",
    "            log_l = Normal(y_hat.squeeze(), 0.1 * torch.ones(6)).log_prob(y.squeeze()).sum()\n",
    "            elbos = torch.zeros(1)\n",
    "            \n",
    "            # Control Variates\n",
    "            for i in range(N):\n",
    "                qi_dist = Normal(model.lambdas[i], F.softplus(model.lambdas[i+N]))\n",
    "                pi_dist = Normal(0, 3.16)\n",
    "                \n",
    "                # Log probabilities\n",
    "                log_pi = pi_dist.log_prob(sample[i]).sum()\n",
    "                log_qi = qi_dist.log_prob(sample[i]).sum()\n",
    "                \n",
    "                # Compute gradients\n",
    "                optimizer.zero_grad()\n",
    "                log_qi.backward()\n",
    "                \n",
    "                # Update gradients and control variates\n",
    "                elbo = (log_l + log_pi - log_qi).squeeze()\n",
    "                gradients[i] += model.lambdas.grad.data[i] * elbo\n",
    "                gradients[i+N] += model.lambdas.grad.data[i+N] * elbo\n",
    "                \n",
    "                # Update control variates\n",
    "                control_f[  i, ix_s] += model.lambdas.grad.data[  i] * elbo\n",
    "                control_f[i+N, ix_s] += model.lambdas.grad.data[i+N] * elbo\n",
    "                control_h[  i, ix_s] += model.lambdas.grad.data[  i]\n",
    "                control_h[i+N, ix_s] += model.lambdas.grad.data[i+N]\n",
    "                \n",
    "                # Track ELBO\n",
    "                elbos += elbo / N\n",
    "                \n",
    "        # Calculate control variates parameters\n",
    "        a = torch.zeros(2*N)\n",
    "        for i in range(2*N):\n",
    "            cov, var = np.cov(to_numpy(control_f[i]), to_numpy(control_h[i]))[[0,1],[1,1]]\n",
    "            a[i] = cov / var\n",
    "        gradients = torch.mean(control_f - a.unsqueeze(1) * control_h, dim=1)\n",
    "        # pdb.set_trace()\n",
    "\n",
    "        # Update ELBO statistics\n",
    "        elbo_meter.update(elbos.item())\n",
    "        elbo_hist.append(elbos.item())\n",
    "        \n",
    "        # if ix_e % 50 == 10: \n",
    "        #     print(ix_e, elbo_meter.avg)\n",
    "        #     torch.save(model.lambdas.data.clone(), './weights/hw2.model.lambdas-e{}.data.pth'.format(ix_e))\n",
    "                \n",
    "        # Step gradient: \n",
    "        optimizer.zero_grad()\n",
    "        model.lambdas.grad.data = - gradients / num_samples\n",
    "        optimizer.step()\n",
    "\n",
    "    return model, elbo_hist"
   ]
  },
  {
   "cell_type": "code",
   "execution_count": 75,
   "metadata": {},
   "outputs": [
    {
     "name": "stdout",
     "output_type": "stream",
     "text": [
      "10 -254.40605718439275\n",
      "60 -244.96616351018187\n",
      "110 -244.137153556755\n",
      "160 -244.72935476362335\n",
      "210 -243.75453873042247\n",
      "260 -243.8083766776483\n",
      "310 -243.50438898705977\n",
      "360 -243.53592396575\n",
      "410 -242.81671558389408\n",
      "460 -242.40907999233156\n",
      "510 -242.03338175137216\n",
      "560 -241.87548632290273\n",
      "610 -241.77618150976403\n",
      "660 -241.35028750236384\n",
      "710 -241.04518657528735\n",
      "760 -240.7773333836479\n",
      "810 -240.6455989889387\n",
      "860 -240.21778130614385\n",
      "910 -240.04886502413535\n",
      "960 -239.9373714514503\n",
      "1010 -239.6914957199323\n",
      "1060 -239.55601023998494\n",
      "1110 -239.60575155263328\n",
      "1160 -239.43743698028118\n"
     ]
    },
    {
     "ename": "KeyboardInterrupt",
     "evalue": "",
     "output_type": "error",
     "traceback": [
      "\u001b[0;31m-----------------------------------------------------------------------\u001b[0m",
      "\u001b[0;31mKeyboardInterrupt\u001b[0m                     Traceback (most recent call last)",
      "\u001b[0;32m<ipython-input-75-d8fbcec95742>\u001b[0m in \u001b[0;36m<module>\u001b[0;34m()\u001b[0m\n\u001b[1;32m      3\u001b[0m \u001b[0;31m# model.lambdas.data = current_weights.data\u001b[0m\u001b[0;34m\u001b[0m\u001b[0;34m\u001b[0m\u001b[0m\n\u001b[1;32m      4\u001b[0m \u001b[0moptimizer\u001b[0m \u001b[0;34m=\u001b[0m \u001b[0mtorch\u001b[0m\u001b[0;34m.\u001b[0m\u001b[0moptim\u001b[0m\u001b[0;34m.\u001b[0m\u001b[0mSGD\u001b[0m\u001b[0;34m(\u001b[0m\u001b[0;34m[\u001b[0m\u001b[0mmodel\u001b[0m\u001b[0;34m.\u001b[0m\u001b[0mlambdas\u001b[0m\u001b[0;34m]\u001b[0m\u001b[0;34m,\u001b[0m \u001b[0mlr\u001b[0m\u001b[0;34m=\u001b[0m\u001b[0;36m5e-3\u001b[0m\u001b[0;34m)\u001b[0m\u001b[0;34m\u001b[0m\u001b[0m\n\u001b[0;32m----> 5\u001b[0;31m \u001b[0mBBVI\u001b[0m\u001b[0;34m(\u001b[0m\u001b[0mX\u001b[0m\u001b[0;34m,\u001b[0m \u001b[0mY\u001b[0m\u001b[0;34m,\u001b[0m \u001b[0mmodel\u001b[0m\u001b[0;34m,\u001b[0m \u001b[0moptimizer\u001b[0m\u001b[0;34m,\u001b[0m \u001b[0mnum_samples\u001b[0m\u001b[0;34m=\u001b[0m\u001b[0;36m25\u001b[0m\u001b[0;34m)\u001b[0m\u001b[0;34m\u001b[0m\u001b[0m\n\u001b[0m",
      "\u001b[0;32m<ipython-input-53-7d5f87e7d193>\u001b[0m in \u001b[0;36mBBVI\u001b[0;34m(x, y, model, optimizer, num_samples, epochs, seed)\u001b[0m\n\u001b[1;32m     42\u001b[0m                 \u001b[0;31m# Compute gradients\u001b[0m\u001b[0;34m\u001b[0m\u001b[0;34m\u001b[0m\u001b[0m\n\u001b[1;32m     43\u001b[0m                 \u001b[0moptimizer\u001b[0m\u001b[0;34m.\u001b[0m\u001b[0mzero_grad\u001b[0m\u001b[0;34m(\u001b[0m\u001b[0;34m)\u001b[0m\u001b[0;34m\u001b[0m\u001b[0m\n\u001b[0;32m---> 44\u001b[0;31m                 \u001b[0mlog_qi\u001b[0m\u001b[0;34m.\u001b[0m\u001b[0mbackward\u001b[0m\u001b[0;34m(\u001b[0m\u001b[0;34m)\u001b[0m\u001b[0;34m\u001b[0m\u001b[0m\n\u001b[0m\u001b[1;32m     45\u001b[0m \u001b[0;34m\u001b[0m\u001b[0m\n\u001b[1;32m     46\u001b[0m                 \u001b[0;31m# Update gradients and control variates\u001b[0m\u001b[0;34m\u001b[0m\u001b[0;34m\u001b[0m\u001b[0m\n",
      "\u001b[0;32m~/miniconda3/envs/py/lib/python3.7/site-packages/torch/tensor.py\u001b[0m in \u001b[0;36mbackward\u001b[0;34m(self, gradient, retain_graph, create_graph)\u001b[0m\n\u001b[1;32m     91\u001b[0m                 \u001b[0mproducts\u001b[0m\u001b[0;34m.\u001b[0m \u001b[0mDefaults\u001b[0m \u001b[0mto\u001b[0m\u001b[0;31m \u001b[0m\u001b[0;31m`\u001b[0m\u001b[0;31m`\u001b[0m\u001b[0;32mFalse\u001b[0m\u001b[0;31m`\u001b[0m\u001b[0;31m`\u001b[0m\u001b[0;34m.\u001b[0m\u001b[0;34m\u001b[0m\u001b[0m\n\u001b[1;32m     92\u001b[0m         \"\"\"\n\u001b[0;32m---> 93\u001b[0;31m         \u001b[0mtorch\u001b[0m\u001b[0;34m.\u001b[0m\u001b[0mautograd\u001b[0m\u001b[0;34m.\u001b[0m\u001b[0mbackward\u001b[0m\u001b[0;34m(\u001b[0m\u001b[0mself\u001b[0m\u001b[0;34m,\u001b[0m \u001b[0mgradient\u001b[0m\u001b[0;34m,\u001b[0m \u001b[0mretain_graph\u001b[0m\u001b[0;34m,\u001b[0m \u001b[0mcreate_graph\u001b[0m\u001b[0;34m)\u001b[0m\u001b[0;34m\u001b[0m\u001b[0m\n\u001b[0m\u001b[1;32m     94\u001b[0m \u001b[0;34m\u001b[0m\u001b[0m\n\u001b[1;32m     95\u001b[0m     \u001b[0;32mdef\u001b[0m \u001b[0mregister_hook\u001b[0m\u001b[0;34m(\u001b[0m\u001b[0mself\u001b[0m\u001b[0;34m,\u001b[0m \u001b[0mhook\u001b[0m\u001b[0;34m)\u001b[0m\u001b[0;34m:\u001b[0m\u001b[0;34m\u001b[0m\u001b[0m\n",
      "\u001b[0;32m~/miniconda3/envs/py/lib/python3.7/site-packages/torch/autograd/__init__.py\u001b[0m in \u001b[0;36mbackward\u001b[0;34m(tensors, grad_tensors, retain_graph, create_graph, grad_variables)\u001b[0m\n\u001b[1;32m     88\u001b[0m     Variable._execution_engine.run_backward(\n\u001b[1;32m     89\u001b[0m         \u001b[0mtensors\u001b[0m\u001b[0;34m,\u001b[0m \u001b[0mgrad_tensors\u001b[0m\u001b[0;34m,\u001b[0m \u001b[0mretain_graph\u001b[0m\u001b[0;34m,\u001b[0m \u001b[0mcreate_graph\u001b[0m\u001b[0;34m,\u001b[0m\u001b[0;34m\u001b[0m\u001b[0m\n\u001b[0;32m---> 90\u001b[0;31m         allow_unreachable=True)  # allow_unreachable flag\n\u001b[0m\u001b[1;32m     91\u001b[0m \u001b[0;34m\u001b[0m\u001b[0m\n\u001b[1;32m     92\u001b[0m \u001b[0;34m\u001b[0m\u001b[0m\n",
      "\u001b[0;31mKeyboardInterrupt\u001b[0m: "
     ]
    }
   ],
   "source": [
    "# model = copy.deepcopy(model2) # SingleLayerNet(10)\n",
    "\n",
    "# model.lambdas.data = current_weights.data\n",
    "optimizer = torch.optim.SGD([model.lambdas], lr=5e-3)\n",
    "BBVI(X, Y, model, optimizer, num_samples=25)"
   ]
  },
  {
   "cell_type": "code",
   "execution_count": 67,
   "metadata": {},
   "outputs": [],
   "source": [
    "# current_weights = model.lambdas.data.clone()\n",
    "# torch.save(current_weights, './hw2.model.lambdas.data.control_variates.pth')"
   ]
  },
  {
   "cell_type": "code",
   "execution_count": 264,
   "metadata": {},
   "outputs": [],
   "source": []
  },
  {
   "cell_type": "code",
   "execution_count": 66,
   "metadata": {},
   "outputs": [],
   "source": [
    "# model2 = copy.deepcopy(model)"
   ]
  },
  {
   "cell_type": "code",
   "execution_count": 76,
   "metadata": {},
   "outputs": [
    {
     "data": {
      "image/png": "[encoded data removed]",
      "text/plain": [
       "<Figure size 1872x576 with 1 Axes>"
      ]
     },
     "metadata": {
      "needs_background": "light"
     },
     "output_type": "display_data"
    }
   ],
   "source": [
    "preds = []\n",
    "for _ in range(5000):\n",
    "    pred = model(x_range, Normal(model.lambdas[:31], torch.exp(model.lambdas[31:])).sample())\n",
    "    preds.append(pred)\n",
    "preds = np.concatenate(preds, axis=1)\n",
    "bounds = (np.sort(preds, axis=1)[:, 1], np.sort(preds, axis=1)[:,-1])\n",
    "mean = np.mean(preds, axis=1)\n",
    "\n",
    "plt.gca().set_title('BBVI for BNN with architecture [10] and Gaussian prior')\n",
    "plt.gca().fill_between(x_range.reshape(-1), bounds[1], bounds[0], color=\"#cccccc\")\n",
    "plt.scatter(X, Y, color='black', marker='o')\n",
    "\n",
    "plt.plot(to_numpy(x_range), mean)\n",
    "# plt.scatter(X,Y)\n",
    "plt.axis([-4.5,4.5,-9,9])\n",
    "plt.show()"
   ]
  },
  {
   "cell_type": "code",
   "execution_count": null,
   "metadata": {},
   "outputs": [],
   "source": []
  },
  {
   "cell_type": "code",
   "execution_count": null,
   "metadata": {},
   "outputs": [],
   "source": []
  },
  {
   "cell_type": "code",
   "execution_count": null,
   "metadata": {},
   "outputs": [],
   "source": []
  },
  {
   "cell_type": "code",
   "execution_count": null,
   "metadata": {},
   "outputs": [],
   "source": []
  },
  {
   "cell_type": "code",
   "execution_count": null,
   "metadata": {},
   "outputs": [],
   "source": []
  },
  {
   "cell_type": "code",
   "execution_count": 89,
   "metadata": {},
   "outputs": [],
   "source": [
    "# plt.plot(to_numpy(x_range), to_numpy(model(x_range)))\n",
    "# plt.scatter(X,Y)"
   ]
  },
  {
   "cell_type": "code",
   "execution_count": null,
   "metadata": {
    "colab": {},
    "colab_type": "code",
    "id": "4ujNby-NM825"
   },
   "outputs": [],
   "source": [
    "# # Plot\n",
    "# fnames = [ ('1_10_1.pth', '[1,10,1]'), ('1_50_1.pth', '[1,50,1]'), ('1_10_10_1.pth', '[1,10,10,1]'), ('1_50_50_1.pth', '[1,50,50,1]') ]\n",
    "\n",
    "# for i, (fname, name) in enumerate(fnames):\n",
    "#   samples = torch.load(fname).squeeze().transpose(0,1).detach().cpu().numpy()\n",
    "#   upper_95 = np.sort(samples, axis=1)[:, 50] \n",
    "#   lower_95 = np.sort(samples, axis=1)[:,-50]\n",
    "  \n",
    "#   # Plot\n",
    "#   plt.subplot(2,2,i+1)\n",
    "#   plt.gca().set_title('BNN with Gaussian prior and network architecture ' + name)\n",
    "#   plt.gca().fill_between(x_range.reshape(-1), upper_95, lower_95, color=\"#cccccc\")\n",
    "#   plt.scatter(X, Y, color='black', marker='o')\n",
    "\n",
    "# plt.show()"
   ]
  },
  {
   "cell_type": "code",
   "execution_count": null,
   "metadata": {
    "colab": {},
    "colab_type": "code",
    "id": "e8dSfG5qcOTg"
   },
   "outputs": [],
   "source": [
    "# if False:\n",
    "#             print('''---------------- id_x {} ---------- \n",
    "#                 \\n means {} \n",
    "#                 grad means {} \n",
    "#                 softstds {} \n",
    "#                 grad softstds {} \n",
    "#                 model.linear.weight.data {} \n",
    "#                 model.linear.weight.grad {} \n",
    "#                 model.linear.bias.data {} \n",
    "#                 model.linear.bias.grad {} \n",
    "#                 log_q {} \n",
    "#                 log_p {} \n",
    "#                 elbo {} '''.format(\n",
    "#                 ix_e, means, grad_means, softstds, grad_softstds, \n",
    "#                 model.linear.weight.data, model.linear.weight.grad, \n",
    "#                 model.linear.bias.data, model.linear.bias.grad, log_q, \n",
    "#                 log_p, elbo))\n",
    "# # Plot ELBO statistics\n",
    "# if ix_e % 10000 == 100:\n",
    "#     display.clear_output()\n",
    "#     plt.plot(elbo_history)\n",
    "#     plt.show()\n",
    "# - 0.5 * sum((p**2).sum() for p in self.get_sampled_weights()) / self.prior_sigma**2\n",
    "#         if ix_e % 1000 == 20: \n",
    "#             display.clear_output()\n",
    "#             # ELBO\n",
    "#             plt.plot(elbo_hist)\n",
    "#             plt.show()\n",
    "#             # PLOT\n",
    "#             y_range = model(x_range, Normal(model.lambdas[:31], torch.exp(model.lambdas[31:])).sample())\n",
    "#             plt.plot(to_numpy(x_range), to_numpy(y_range))\n",
    "#             plt.scatter(X,Y)\n",
    "#             plt.show()\n"
   ]
  }
 ],
 "metadata": {
  "accelerator": "GPU",
  "colab": {
   "collapsed_sections": [],
   "name": "HW1",
   "provenance": [],
   "version": "0.3.2"
  },
  "kernelspec": {
   "display_name": "Python 3",
   "language": "python",
   "name": "python3"
  },
  "language_info": {
   "codemirror_mode": {
    "name": "ipython",
    "version": 3
   },
   "file_extension": ".py",
   "mimetype": "text/x-python",
   "name": "python",
   "nbconvert_exporter": "python",
   "pygments_lexer": "ipython3",
   "version": "3.7.0"
  }
 },
 "nbformat": 4,
 "nbformat_minor": 1
}
