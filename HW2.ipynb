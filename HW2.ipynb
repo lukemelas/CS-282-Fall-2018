{
 "cells": [
  {
   "cell_type": "markdown",
   "metadata": {},
   "source": [
    "#### Libraries"
   ]
  },
  {
   "cell_type": "code",
   "execution_count": 1,
   "metadata": {
    "colab": {},
    "colab_type": "code",
    "id": "bFcDtGyVhNL3"
   },
   "outputs": [],
   "source": [
    "import copy, time\n",
    "import random\n",
    "import pdb\n",
    "\n",
    "import numpy as np\n",
    "import matplotlib\n",
    "import matplotlib.pyplot as plt\n",
    "\n",
    "import torch\n",
    "import torch.nn as nn\n",
    "import torch.optim as optim\n",
    "import torch.nn.functional as F\n",
    "from torch.distributions.normal import Normal"
   ]
  },
  {
   "cell_type": "code",
   "execution_count": 2,
   "metadata": {
    "colab": {},
    "colab_type": "code",
    "id": "786-fkD-4wtk"
   },
   "outputs": [],
   "source": [
    "from IPython import display\n",
    "matplotlib.rcParams['figure.figsize'] = [26,8]"
   ]
  },
  {
   "cell_type": "markdown",
   "metadata": {},
   "source": [
    "#### Generic Utils "
   ]
  },
  {
   "cell_type": "code",
   "execution_count": 3,
   "metadata": {},
   "outputs": [],
   "source": [
    "class AverageMeter(object):\n",
    "    \"\"\"Computes and stores the average and current value\"\"\"\n",
    "    def __init__(self):\n",
    "        self.reset()\n",
    "\n",
    "    def reset(self):\n",
    "        self.val = 0; self.avg = 0; self.sum = 0; self.count = 0\n",
    "\n",
    "    def update(self, val, n=1):\n",
    "        self.val = val\n",
    "        self.sum += val * n\n",
    "        self.count += n\n",
    "        self.avg = self.sum / self.count\n",
    "        \n",
    "def check(val, msg):\n",
    "    '''Checks whether val is nan or inf and prints msg if True'''\n",
    "    if (val * 0 != 0): print(msg); pdb.set_trace()\n",
    "        \n",
    "def to_numpy(t):\n",
    "    '''PyTorch tensor to numpy array'''\n",
    "    return t.detach().to('cpu').numpy()"
   ]
  },
  {
   "cell_type": "markdown",
   "metadata": {
    "colab_type": "text",
    "id": "MzwOQHbZ6Xnz"
   },
   "source": [
    "#### Model"
   ]
  },
  {
   "cell_type": "code",
   "execution_count": 4,
   "metadata": {
    "colab": {
     "base_uri": "https://localhost:8080/",
     "height": 518
    },
    "colab_type": "code",
    "id": "SjcVFF82UFed",
    "outputId": "49b99b2c-5991-4601-bbdb-f9ed3f84edc3"
   },
   "outputs": [],
   "source": [
    "# PyTorch\n",
    "device = torch.device('cpu')\n",
    "\n",
    "# Data\n",
    "X = torch.tensor([-2.0,-1.8,-1.0,1,1.8,2]).reshape(-1,1).to(device)\n",
    "Y = - X*X*X*X + 3*X*X + 1\n",
    "\n",
    "# Plotting range\n",
    "x_range = torch.arange(-5,5,0.05).reshape(-1,1)\n",
    "\n",
    "# BBVI hyperparameters\n",
    "fn_samples = 1000 # function samples after convergence\n",
    "learning_rate = 1e-4 # learning rate"
   ]
  },
  {
   "cell_type": "code",
   "execution_count": 5,
   "metadata": {
    "colab": {},
    "colab_type": "code",
    "id": "E3MDmD-J6YGR"
   },
   "outputs": [],
   "source": [
    "class SingleLayerNet(nn.Module):\n",
    "    def __init__(self, h):\n",
    "        super(SingleLayerNet, self).__init__()\n",
    "        self.h = h\n",
    "\n",
    "        # First 31 are means, last 31 are log_stds\n",
    "        self.lambdas = nn.Parameter(torch.zeros(62))\n",
    "        self.lambdas.data[:31].fill_(0.0)\n",
    "        self.lambdas.data[31:].fill_(0.5)\n",
    "        \n",
    "    def forward(self, x, sample):\n",
    "        \n",
    "        # Unroll sample weights\n",
    "        w1 = sample[  :10].reshape(1,10)\n",
    "        b1 = sample[10:20].reshape(1,10)\n",
    "        w2 = sample[20:30].reshape(10,1)\n",
    "        b2 = sample[30:31].reshape( 1,1)\n",
    "        \n",
    "        # Forward pass\n",
    "        x = (x-w1) / b1 # x = x @ w1 + b1 # \n",
    "        x = torch.exp(-x*x) # torch.exp(-(x-w1)*(x-w1) / (b1*b1)) \n",
    "        x = x @ w2 + b2\n",
    "        return x "
   ]
  },
  {
   "cell_type": "code",
   "execution_count": 6,
   "metadata": {},
   "outputs": [],
   "source": [
    "def BBVI(x, y, model, optimizer, num_samples=1000, epochs=int(20e3), seed=None):\n",
    "    '''Performs black-box variational inference'''\n",
    "    torch.manual_seed(seed if seed else random.randint(0,1000))\n",
    "        \n",
    "    # Track ELBO statistics\n",
    "    elbo_meter = AverageMeter()\n",
    "    elbo_hist = []\n",
    "    \n",
    "    # Prior\n",
    "    p_dist = Normal(torch.zeros(31), 3.16 * torch.ones(31)) \n",
    "    \n",
    "    for ix_e in range(epochs):\n",
    "        gradients = torch.zeros(62)\n",
    "        for ix_s in range(num_samples):\n",
    "            \n",
    "            # Distributions\n",
    "            q_dist = Normal(model.lambdas[:31], F.softplus(model.lambdas[31:])) # torch.exp\n",
    "\n",
    "            # Sample weights\n",
    "            sample = q_dist.sample()\n",
    "                        \n",
    "            # Likelihood\n",
    "            y_hat = model.forward(x, sample)\n",
    "            log_l = Normal(y_hat.squeeze(), 0.1 * torch.ones(6)).log_prob(y.squeeze()).sum()\n",
    "            \n",
    "            # Regularization\n",
    "            log_p = p_dist.log_prob(sample).sum()\n",
    "            log_q = q_dist.log_prob(sample).sum()\n",
    "            \n",
    "            # ELBO = log likelihood + log p - log q\n",
    "            elbo = (log_l + log_p - log_q).squeeze()\n",
    "            \n",
    "            # Store gradients\n",
    "            model.zero_grad()\n",
    "            optimizer.zero_grad()\n",
    "            log_q.backward()\n",
    "            gradients += model.lambdas.grad.data * elbo\n",
    "                \n",
    "            # Update ELBO statistics\n",
    "            elbo_meter.update(elbo.item())\n",
    "            elbo_hist.append(elbo.item())\n",
    "        \n",
    "        if ix_e % 50 == 10: \n",
    "            print(ix_e, elbo_meter.avg)\n",
    "#             torch.save(model.lambdas.data.clone(), './weights/hw2.model.lambdas-e{}.data.pth'.format(ix_e))\n",
    "                \n",
    "        # Step gradient: \n",
    "        optimizer.zero_grad()\n",
    "        model.lambdas.grad.data = - gradients / num_samples\n",
    "        optimizer.step()\n",
    "\n",
    "    return model, elbo_hist"
   ]
  },
  {
   "cell_type": "code",
   "execution_count": null,
   "metadata": {},
   "outputs": [
    {
     "name": "stdout",
     "output_type": "stream",
     "text": [
      "10 -2262.5556936645507\n",
      "60 -1774.6174864882173\n",
      "110 -1542.4000437641316\n",
      "160 -1404.2763441158318\n"
     ]
    }
   ],
   "source": [
    "model = SingleLayerNet(10)\n",
    "# model.lambdas.data = current_weights.data\n",
    "optimizer = torch.optim.SGD([model.lambdas], lr=2e-4)\n",
    "BBVI(X, Y, model, optimizer)"
   ]
  },
  {
   "cell_type": "code",
   "execution_count": 386,
   "metadata": {},
   "outputs": [],
   "source": [
    "# current_weights = model.lambdas.data.clone()\n",
    "# torch.save(current_weights, './hw2.model.lambdas.data.softplusstdv.pth')"
   ]
  },
  {
   "cell_type": "code",
   "execution_count": 13,
   "metadata": {
    "collapsed": true
   },
   "outputs": [
    {
     "data": {
      "image/png": "[encoded data removed]",
      "text/plain": [
       "<Figure size 1872x576 with 1 Axes>"
      ]
     },
     "metadata": {
      "needs_background": "light"
     },
     "output_type": "display_data"
    }
   ],
   "source": [
    "preds = []\n",
    "for _ in range(5000):\n",
    "    pred = model(x_range, Normal(model.lambdas[:31], torch.exp(model.lambdas[31:])).sample())\n",
    "    preds.append(pred)\n",
    "preds = np.concatenate(preds, axis=1)\n",
    "bounds = (np.sort(preds, axis=1)[:, 1], np.sort(preds, axis=1)[:,-1])\n",
    "mean = np.mean(preds, axis=1)\n",
    "\n",
    "plt.gca().set_title('BBVI for BNN with architecture [10] and Gaussian prior')\n",
    "plt.gca().fill_between(x_range.reshape(-1), bounds[1], bounds[0], color=\"#cccccc\")\n",
    "plt.scatter(X, Y, color='black', marker='o')\n",
    "\n",
    "plt.plot(to_numpy(x_range), mean)\n",
    "# plt.scatter(X,Y)\n",
    "plt.axis([-5,5,-8,8])\n",
    "plt.show()"
   ]
  },
  {
   "cell_type": "code",
   "execution_count": 16,
   "metadata": {},
   "outputs": [
    {
     "name": "stdout",
     "output_type": "stream",
     "text": [
      "+9.1387 | +269.9940\n",
      "-13.6715 | +289.2142\n",
      "-16.9426 | +292.8768\n",
      "+10.4562 | +272.6976\n",
      "-87.2402 | +243.0557\n",
      "-46.2390 | +324.8989\n"
     ]
    }
   ],
   "source": [
    "# Calculate means and standard deviations of gradient updates\n",
    "gs = []\n",
    "for m in range(100):\n",
    "    model = SingleLayerNet(10)\n",
    "    optimizer = torch.optim.SGD([model.lambdas], lr=1e-4)\n",
    "    model, _ = BBVI(X, Y, model, optimizer, num_samples=100, epochs=int(1))\n",
    "    gs.append(model.lambdas.grad)\n",
    "gs = torch.stack(gs, dim=1)\n",
    "for w in [1,5,7,15,21,30]:\n",
    "    print('{:+5.4f} | {:+5.4f}'.format(gs[w].mean().item(), gs[w].std().item()))"
   ]
  },
  {
   "cell_type": "code",
   "execution_count": null,
   "metadata": {},
   "outputs": [],
   "source": []
  },
  {
   "cell_type": "code",
   "execution_count": 89,
   "metadata": {},
   "outputs": [],
   "source": [
    "# plt.plot(to_numpy(x_range), to_numpy(model(x_range)))\n",
    "# plt.scatter(X,Y)"
   ]
  },
  {
   "cell_type": "code",
   "execution_count": null,
   "metadata": {
    "colab": {},
    "colab_type": "code",
    "id": "4ujNby-NM825"
   },
   "outputs": [],
   "source": [
    "# # Plot\n",
    "# fnames = [ ('1_10_1.pth', '[1,10,1]'), ('1_50_1.pth', '[1,50,1]'), ('1_10_10_1.pth', '[1,10,10,1]'), ('1_50_50_1.pth', '[1,50,50,1]') ]\n",
    "\n",
    "# for i, (fname, name) in enumerate(fnames):\n",
    "#   samples = torch.load(fname).squeeze().transpose(0,1).detach().cpu().numpy()\n",
    "#   upper_95 = np.sort(samples, axis=1)[:, 50] \n",
    "#   lower_95 = np.sort(samples, axis=1)[:,-50]\n",
    "  \n",
    "#   # Plot\n",
    "#   plt.subplot(2,2,i+1)\n",
    "#   plt.gca().set_title('BNN with Gaussian prior and network architecture ' + name)\n",
    "#   plt.gca().fill_between(x_range.reshape(-1), upper_95, lower_95, color=\"#cccccc\")\n",
    "#   plt.scatter(X, Y, color='black', marker='o')\n",
    "\n",
    "# plt.show()"
   ]
  }
 ],
 "metadata": {
  "accelerator": "GPU",
  "colab": {
   "collapsed_sections": [],
   "name": "HW1",
   "provenance": [],
   "version": "0.3.2"
  },
  "kernelspec": {
   "display_name": "Python 3",
   "language": "python",
   "name": "python3"
  },
  "language_info": {
   "codemirror_mode": {
    "name": "ipython",
    "version": 3
   },
   "file_extension": ".py",
   "mimetype": "text/x-python",
   "name": "python",
   "nbconvert_exporter": "python",
   "pygments_lexer": "ipython3",
   "version": "3.6.6"
  }
 },
 "nbformat": 4,
 "nbformat_minor": 1
}
