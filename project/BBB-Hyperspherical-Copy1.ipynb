{
 "cells": [
  {
   "cell_type": "markdown",
   "metadata": {},
   "source": [
    "#### Libraries"
   ]
  },
  {
   "cell_type": "code",
   "execution_count": 1,
   "metadata": {
    "colab": {},
    "colab_type": "code",
    "id": "bFcDtGyVhNL3"
   },
   "outputs": [],
   "source": [
    "import copy, time\n",
    "import random\n",
    "import pdb\n",
    "\n",
    "import numpy as np\n",
    "import matplotlib\n",
    "import matplotlib.pyplot as plt\n",
    "\n",
    "import torch\n",
    "import torch.nn as nn\n",
    "import torch.optim as optim\n",
    "import torch.nn.functional as F\n",
    "from torch.distributions.normal import Normal"
   ]
  },
  {
   "cell_type": "code",
   "execution_count": 2,
   "metadata": {},
   "outputs": [],
   "source": [
    "from distributions import VonMisesFisher, HypersphericalUniform"
   ]
  },
  {
   "cell_type": "code",
   "execution_count": 3,
   "metadata": {
    "colab": {},
    "colab_type": "code",
    "id": "786-fkD-4wtk"
   },
   "outputs": [],
   "source": [
    "from IPython import display\n",
    "matplotlib.rcParams['figure.figsize'] = [12,8]"
   ]
  },
  {
   "cell_type": "markdown",
   "metadata": {},
   "source": [
    "#### Generic Utils "
   ]
  },
  {
   "cell_type": "code",
   "execution_count": 4,
   "metadata": {},
   "outputs": [],
   "source": [
    "class AverageMeter(object):\n",
    "    \"\"\"Computes and stores the average and current value. \n",
    "       Also stores a rolling average of size roll_len.\"\"\"\n",
    "    def __init__(self, roll_len=100):\n",
    "        self.reset()\n",
    "        self.roll_len = roll_len\n",
    "        self.roll = []\n",
    "\n",
    "    def reset(self):\n",
    "        self.val = 0; self.avg = 0; self.sum = 0; self.count = 0; self.roll = []; self.roll_avg = 0\n",
    "\n",
    "    def update(self, val, n=1):\n",
    "        self.val = val; self.sum += val * n; self.count += n\n",
    "        self.avg = self.sum / self.count\n",
    "        self.roll = (self.roll + [val] * n)[-self.roll_len:]\n",
    "        self.roll_avg = sum(self.roll) / len(self.roll)\n",
    "        \n",
    "def check(val, msg):\n",
    "    '''Checks whether val is nan or inf and prints msg if True'''\n",
    "    if (val * 0 != 0): print(msg); pdb.set_trace()\n",
    "        \n",
    "def to_numpy(t):\n",
    "    '''PyTorch tensor to numpy array'''\n",
    "    return t.detach().to('cpu').numpy()"
   ]
  },
  {
   "cell_type": "markdown",
   "metadata": {},
   "source": [
    "#### Data "
   ]
  },
  {
   "cell_type": "code",
   "execution_count": 49,
   "metadata": {},
   "outputs": [
    {
     "data": {
      "image/png": "[encoded data removed]",
      "text/plain": [
       "<Figure size 864x576 with 1 Axes>"
      ]
     },
     "metadata": {
      "needs_background": "light"
     },
     "output_type": "display_data"
    }
   ],
   "source": [
    "# Reproducibility\n",
    "torch.manual_seed(20)\n",
    "\n",
    "# Synthetic dataset\n",
    "DATASET = 'class' # 'class' or 'cubic' or 'bakeoff'\n",
    "\n",
    "if DATASET == 'class': # size points from class\n",
    "    X_train = torch.tensor([-2.0,-1.8,-1.0,1,1.8,2]).reshape(-1,1)\n",
    "    Y_true  = - X_train**4 + 3*X_train**2 + 1\n",
    "    Y_noise = 0\n",
    "    Y_train = Y_true + Y_noise\n",
    "    X_range = torch.arange(-5,5,0.05).reshape(-1,1)\n",
    "    plt.axis([-5,5,-6,6])\n",
    "elif DATASET == 'cubic': # from multiple papers\n",
    "    X_train = (torch.rand(20,1) - 0.5) * 8\n",
    "    Y_true  = X_train**3 \n",
    "    Y_noise = torch.randn(20,1) * 3.0\n",
    "    Y_train = Y_true + Y_noise\n",
    "    X_range = torch.arange(-5,5,0.05).reshape(-1,1)\n",
    "    plt.axis([-6,6,-100,100])\n",
    "elif DATASET == 'bakeoff': # from the bakeoff paper\n",
    "    # https://pdfs.semanticscholar.org/6197/dbd691037a412b67df688541df7c9ae87c0d.pdf\n",
    "    N = 50\n",
    "    X_train = (torch.randn(N,1) * 2).clamp(-4,4)\n",
    "    Y_true  = (1 + X_train) * torch.sin(10 * torch.tanh(X_train))\n",
    "    Y_noise = torch.randn(N,1) * 0.2\n",
    "    Y_train = Y_true + Y_noise\n",
    "    X_range = torch.arange(-6,6,0.01).reshape(-1,1)\n",
    "    plt.axis([-6,6,-4,3])\n",
    "    \n",
    "# Plot dataset\n",
    "plt.scatter(to_numpy(X_train), to_numpy(Y_true))\n",
    "plt.show()"
   ]
  },
  {
   "cell_type": "markdown",
   "metadata": {
    "colab_type": "text",
    "id": "MzwOQHbZ6Xnz"
   },
   "source": [
    "#### Model"
   ]
  },
  {
   "cell_type": "code",
   "execution_count": 76,
   "metadata": {},
   "outputs": [],
   "source": [
    "class HypersphericalNet(nn.Module):\n",
    "    def __init__(self):\n",
    "        super(HypersphericalNet, self).__init__()\n",
    "        # For now there is no flexibility. It is a 1 layer net with 6 parameters. \n",
    "        \n",
    "        # Means\n",
    "        self.w1_m = nn.Parameter(torch.zeros(1, DIM))\n",
    "        self.b1_m = nn.Parameter(torch.zeros(1, DIM)) \n",
    "        self.w2_m = nn.Parameter(torch.zeros(1, DIM)) \n",
    "        self.b2_m = nn.Parameter(torch.zeros(1,   1)) \n",
    "        # self.w1_m = torch.zeros(1,DIM, requires_grad=True)\n",
    "        # self.b1_m = torch.zeros(1,DIM, requires_grad=True)\n",
    "        # self.w2_m = torch.zeros(DIM,1, requires_grad=True)\n",
    "        # self.b2_m = torch.zeros(1,1, requires_grad=True)\n",
    "        \n",
    "        # (Softplus) standard deviations\n",
    "        self.w1_s = nn.Parameter(torch.zeros(1, 1))\n",
    "        self.b1_s = nn.Parameter(torch.zeros(1, 1))\n",
    "        self.w2_s = nn.Parameter(torch.zeros(1, 1))\n",
    "        self.b2_s = nn.Parameter(torch.zeros(1, 1))\n",
    "        # self.w1_s = torch.zeros(  1,DIM, requires_grad=True)\n",
    "        # self.b1_s = torch.zeros(  1,DIM, requires_grad=True)\n",
    "        # self.w2_s = torch.zeros(DIM,  1, requires_grad=True)\n",
    "        # self.b2_s = torch.zeros(  1,  1, requires_grad=True)\n",
    "                \n",
    "        # Initialize\n",
    "        self.init_weights_()\n",
    "    \n",
    "    def init_weights_(self):\n",
    "        for m in [self.w1_m, self.b1_m, self.w2_m, self.b2_m]:\n",
    "            m.data.normal_(0,1)\n",
    "            m.data = m.data / m.data.norm()\n",
    "        for m in [self.w1_s, self.b1_s, self.w2_s, self.b2_s]:\n",
    "            m.data.uniform_(0,0.25)\n",
    "\n",
    "    def get_params(self):\n",
    "        return self.w1_m, self.b1_m, self.w2_m, self.b2_m, self.w1_s, self.b1_s, self.w2_s, self.b2_s\n",
    "    \n",
    "    def get_tensor_form(self):\n",
    "        '''A hack to get around the fact that nn.Parameter cannot be an input \n",
    "           to a PyTorch distribution in version 0.4.1'''\n",
    "        return (self.w1_m * torch.ones(1),\n",
    "                self.b1_m * torch.ones(1),\n",
    "                self.w2_m * torch.ones(1),\n",
    "                self.b2_m * torch.ones(1),\n",
    "                F.softplus(self.w1_s * torch.ones(1)),\n",
    "                F.softplus(self.b1_s * torch.ones(1)),\n",
    "                F.softplus(self.w2_s * torch.ones(1)),\n",
    "                F.softplus(self.b2_s * torch.ones(1)))\n",
    "    \n",
    "    def sample_weights(self):\n",
    "        \n",
    "        # Get weights as tensors, not parameters\n",
    "        w1_m, b1_m, w2_m, b2_m, w1_s, b1_s, w2_s, b2_s = self.get_tensor_form()\n",
    "        \n",
    "        # Renormalize weights\n",
    "        w1_m = self.w1_m / self.w1_m.norm()\n",
    "        b1_m = self.b1_m / self.b1_m.norm()\n",
    "        w2_m = self.w2_m / self.w2_m.norm()\n",
    "        \n",
    "        # Sample\n",
    "        w1 = w1_m # VonMisesFisher(w1_m, w1_s).rsample().reshape(1,DIM)\n",
    "        b1 = b1_m # VonMisesFisher(b1_m, b1_s).rsample().reshape(1,DIM)\n",
    "        w2 = w2_m # VonMisesFisher(w2_m, w2_s).rsample().reshape(1,DIM)\n",
    "        b2 = b2_m # Normal(        b2_m, b2_s).rsample()\n",
    "        \n",
    "        # # Sample\n",
    "        # w1 = Normal(self.w1_m, F.softplus(self.w1_s)).rsample()\n",
    "        # b1 = Normal(self.b1_m, F.softplus(self.b1_s)).rsample()\n",
    "        # w2 = Normal(self.w2_m, F.softplus(self.w2_s)).rsample()\n",
    "        # b2 = Normal(self.b2_m, F.softplus(self.b2_s)).rsample()\n",
    "        \n",
    "        return w1, b1, w2, b2\n",
    "    \n",
    "    def get_log_p(self, sample, prior_std=1.0):\n",
    "        w1, b1, w2, b2 = sample\n",
    "        \n",
    "        # Get log prior (constants)\n",
    "        log_p_w1 = HypersphericalUniform(DIM-1).log_prob(w1).sum()\n",
    "        log_p_b1 = HypersphericalUniform(DIM-1).log_prob(b1).sum()\n",
    "        log_p_w2 = HypersphericalUniform(DIM-1).log_prob(w2).sum()\n",
    "        log_p_b2 = Normal(torch.zeros(  1), torch.ones(  1)*prior_std).log_prob(b2).sum()\n",
    "        \n",
    "        # log_p_w1 = Normal(torch.zeros(DIM), torch.ones(DIM)*prior_std).log_prob(w1).sum()\n",
    "        # log_p_b1 = Normal(torch.zeros(DIM), torch.ones(DIM)*prior_std).log_prob(b1).sum()\n",
    "        # log_p_w2 = Normal(torch.zeros(DIM), torch.ones(DIM)*prior_std).log_prob(w2).sum()\n",
    "        # log_p_b2 = Normal(torch.zeros(  1), torch.ones(  1)*prior_std).log_prob(b2).sum()\n",
    "        \n",
    "        return log_p_w1 + log_p_b1 + log_p_w2 + log_p_b2\n",
    "    \n",
    "    def get_log_q(self, sample):\n",
    "        w1, b1, w2, b2 = sample\n",
    "        \n",
    "        # Get weights as tensors, not parameters\n",
    "        w1_m, b1_m, w2_m, b2_m, w1_s, b1_s, w2_s, b2_s = self.get_tensor_form()\n",
    "        \n",
    "        # Get log q(z)\n",
    "        log_q_w1 = VonMisesFisher(w1_m, w1_s).log_prob(w1).sum()\n",
    "        log_q_b1 = VonMisesFisher(b1_m, b1_s).log_prob(b1).sum()\n",
    "        log_q_w2 = VonMisesFisher(w2_m, w2_s).log_prob(w2).sum()\n",
    "        log_q_b2 = Normal(        b2_m, b2_s).log_prob(b2).sum()\n",
    "        \n",
    "        # log_q_w1 = Normal(self.w1_m, F.softplus(self.w1_s)).log_prob(w1).sum()\n",
    "        # log_q_b1 = Normal(self.b1_m, F.softplus(self.b1_s)).log_prob(b1).sum()\n",
    "        # log_q_w2 = Normal(self.w2_m, F.softplus(self.w2_s)).log_prob(w2).sum()\n",
    "        # log_q_b2 = Normal(self.b2_m, F.softplus(self.b2_s)).log_prob(b2).sum()\n",
    "        \n",
    "        return log_q_w1 + log_q_b1 + log_q_w2 + log_q_b2\n",
    "        \n",
    "    def forward(self, x, sample, nonlinearity='rbf'):\n",
    "        '''Unroll network and forward pass'''\n",
    "        w1, b1, w2, b2 = sample\n",
    "        w1, b1, w2, b2 = w1.reshape(1,DIM), b1.reshape(1,DIM), w2.reshape(DIM,1), b2.reshape(1,1)\n",
    "        \n",
    "        x = x @ w1 + b1\n",
    "        x = nn.functional.relu(x) if nonlinearity=='relu' else torch.exp(-x*x)\n",
    "        x = x @ w2 + b2 \n",
    "        return x\n",
    "    \n",
    "    def fwd_not_bayes(self, x):\n",
    "        x = x @ self.w1_m + self.b1_m\n",
    "        x = torch.exp(-x*x)\n",
    "        x = x @ self.w2_m.reshape(DIM,1) + self.b2_m \n",
    "        return x"
   ]
  },
  {
   "cell_type": "code",
   "execution_count": 89,
   "metadata": {},
   "outputs": [],
   "source": [
    "def BBB(x, y, model, optimizer, num_samples=1, epochs=int(1e5), \n",
    "        noise_std=0.1, seed=None, print_every=500):\n",
    "    '''Performs black-box variational inference'''\n",
    "    torch.manual_seed(seed if seed else random.randint(0,1000))\n",
    "        \n",
    "    # Track ELBO statistics\n",
    "    elbo_meter = AverageMeter(100)\n",
    "    elbo_hist = []\n",
    "        \n",
    "    for ix_e in range(epochs):\n",
    "        gradients = [torch.zeros_like(x) for x in model.get_params()]\n",
    "        for ix_s in range(num_samples):\n",
    "            \n",
    "            # Sample weights\n",
    "            sample = model.sample_weights()\n",
    "            \n",
    "            # Likelihood\n",
    "            y_hat = model.forward(x, sample)\n",
    "            log_l = Normal(y_hat.squeeze(), noise_std * torch.ones(x.shape[0])).log_prob(y.squeeze()).sum()\n",
    "            \n",
    "            # Regularization\n",
    "            log_p = model.get_log_p(sample)\n",
    "            log_q = model.get_log_q(sample)\n",
    "            \n",
    "            # ELBO = log likelihood + log p - log q\n",
    "            elbo = (log_l) # + log_p - log_q).squeeze()\n",
    "            loss = - elbo / num_samples\n",
    "            \n",
    "            # Store gradients\n",
    "            optimizer.zero_grad()\n",
    "            loss.backward() # retain_graph=True)\n",
    "            for x, p in zip(gradients, model.get_params()):\n",
    "                x += p.grad.data if p.grad is not None else 0\n",
    "            optimizer.zero_grad()\n",
    "            \n",
    "            # Update ELBO statistics\n",
    "            elbo_meter.update(elbo.item())\n",
    "            elbo_hist.append(elbo.item())\n",
    "        \n",
    "            # Pray\n",
    "            assert not sum(torch.isnan(x).any() for x in model.get_params())\n",
    "\n",
    "        # Step gradient:\n",
    "        optimizer.zero_grad()\n",
    "        for x, p in zip(gradients, model.get_params()):\n",
    "            if p.grad is not None:\n",
    "                p.grad.data = x / num_samples\n",
    "        optimizer.step()\n",
    "        \n",
    "        # Print statistics\n",
    "        if print_every > 0 and ix_e % print_every == 10: \n",
    "            print('{:5d} | ELBO {:6.0f} | Rolling: {:6.0f}'.format(\n",
    "                ix_e, elbo_meter.avg, elbo_meter.roll_avg))\n",
    "            \n",
    "            ## Plot\n",
    "            #plot_samples(model)\n",
    "\n",
    "    return model, elbo_meter.roll_avg, elbo_hist"
   ]
  },
  {
   "cell_type": "code",
   "execution_count": 90,
   "metadata": {
    "scrolled": true
   },
   "outputs": [
    {
     "name": "stdout",
     "output_type": "stream",
     "text": [
      "   10 | ELBO  -1944 | Rolling:  -1944\n",
      "   21 | ELBO  -1944 | Rolling:  -1944\n",
      "   32 | ELBO  -1944 | Rolling:  -1944\n",
      "   43 | ELBO  -1944 | Rolling:  -1944\n",
      "   54 | ELBO  -1944 | Rolling:  -1944\n",
      "   65 | ELBO  -1944 | Rolling:  -1944\n",
      "   76 | ELBO  -1944 | Rolling:  -1944\n",
      "   87 | ELBO  -1944 | Rolling:  -1944\n",
      "   98 | ELBO  -1944 | Rolling:  -1944\n",
      "  109 | ELBO  -1944 | Rolling:  -1944\n",
      "  120 | ELBO  -1944 | Rolling:  -1944\n",
      "  131 | ELBO  -1944 | Rolling:  -1944\n",
      "  142 | ELBO  -1944 | Rolling:  -1944\n",
      "  153 | ELBO  -1944 | Rolling:  -1944\n",
      "  164 | ELBO  -1944 | Rolling:  -1944\n",
      "  175 | ELBO  -1944 | Rolling:  -1944\n",
      "  186 | ELBO  -1944 | Rolling:  -1944\n"
     ]
    },
    {
     "ename": "KeyboardInterrupt",
     "evalue": "",
     "output_type": "error",
     "traceback": [
      "\u001b[0;31m---------------------------------------------------------------------------\u001b[0m",
      "\u001b[0;31mKeyboardInterrupt\u001b[0m                         Traceback (most recent call last)",
      "\u001b[0;32m<ipython-input-90-54c2700f02f8>\u001b[0m in \u001b[0;36m<module>\u001b[0;34m\u001b[0m\n\u001b[1;32m     18\u001b[0m     \u001b[0;31m# Run VI\u001b[0m\u001b[0;34m\u001b[0m\u001b[0;34m\u001b[0m\u001b[0m\n\u001b[1;32m     19\u001b[0m     model, elbo, hist = BBB(X_train, Y_train, model, optimizer, num_samples=11,\n\u001b[0;32m---> 20\u001b[0;31m                             print_every=11, epochs=int(5e4))\n\u001b[0m\u001b[1;32m     21\u001b[0m \u001b[0;34m\u001b[0m\u001b[0m\n\u001b[1;32m     22\u001b[0m     \u001b[0;31m# Statistics\u001b[0m\u001b[0;34m\u001b[0m\u001b[0;34m\u001b[0m\u001b[0m\n",
      "\u001b[0;32m<ipython-input-89-a584de84a2c4>\u001b[0m in \u001b[0;36mBBB\u001b[0;34m(x, y, model, optimizer, num_samples, epochs, noise_std, seed, print_every)\u001b[0m\n\u001b[1;32m     21\u001b[0m             \u001b[0;31m# Regularization\u001b[0m\u001b[0;34m\u001b[0m\u001b[0;34m\u001b[0m\u001b[0m\n\u001b[1;32m     22\u001b[0m             \u001b[0mlog_p\u001b[0m \u001b[0;34m=\u001b[0m \u001b[0mmodel\u001b[0m\u001b[0;34m.\u001b[0m\u001b[0mget_log_p\u001b[0m\u001b[0;34m(\u001b[0m\u001b[0msample\u001b[0m\u001b[0;34m)\u001b[0m\u001b[0;34m\u001b[0m\u001b[0m\n\u001b[0;32m---> 23\u001b[0;31m             \u001b[0mlog_q\u001b[0m \u001b[0;34m=\u001b[0m \u001b[0mmodel\u001b[0m\u001b[0;34m.\u001b[0m\u001b[0mget_log_q\u001b[0m\u001b[0;34m(\u001b[0m\u001b[0msample\u001b[0m\u001b[0;34m)\u001b[0m\u001b[0;34m\u001b[0m\u001b[0m\n\u001b[0m\u001b[1;32m     24\u001b[0m \u001b[0;34m\u001b[0m\u001b[0m\n\u001b[1;32m     25\u001b[0m             \u001b[0;31m# ELBO = log likelihood + log p - log q\u001b[0m\u001b[0;34m\u001b[0m\u001b[0;34m\u001b[0m\u001b[0m\n",
      "\u001b[0;32m<ipython-input-76-549877910415>\u001b[0m in \u001b[0;36mget_log_q\u001b[0;34m(self, sample)\u001b[0m\n\u001b[1;32m     93\u001b[0m \u001b[0;34m\u001b[0m\u001b[0m\n\u001b[1;32m     94\u001b[0m         \u001b[0;31m# Get weights as tensors, not parameters\u001b[0m\u001b[0;34m\u001b[0m\u001b[0;34m\u001b[0m\u001b[0m\n\u001b[0;32m---> 95\u001b[0;31m         \u001b[0mw1_m\u001b[0m\u001b[0;34m,\u001b[0m \u001b[0mb1_m\u001b[0m\u001b[0;34m,\u001b[0m \u001b[0mw2_m\u001b[0m\u001b[0;34m,\u001b[0m \u001b[0mb2_m\u001b[0m\u001b[0;34m,\u001b[0m \u001b[0mw1_s\u001b[0m\u001b[0;34m,\u001b[0m \u001b[0mb1_s\u001b[0m\u001b[0;34m,\u001b[0m \u001b[0mw2_s\u001b[0m\u001b[0;34m,\u001b[0m \u001b[0mb2_s\u001b[0m \u001b[0;34m=\u001b[0m \u001b[0mself\u001b[0m\u001b[0;34m.\u001b[0m\u001b[0mget_tensor_form\u001b[0m\u001b[0;34m(\u001b[0m\u001b[0;34m)\u001b[0m\u001b[0;34m\u001b[0m\u001b[0m\n\u001b[0m\u001b[1;32m     96\u001b[0m \u001b[0;34m\u001b[0m\u001b[0m\n\u001b[1;32m     97\u001b[0m         \u001b[0;31m# Get log q(z)\u001b[0m\u001b[0;34m\u001b[0m\u001b[0;34m\u001b[0m\u001b[0m\n",
      "\u001b[0;32m<ipython-input-76-549877910415>\u001b[0m in \u001b[0;36mget_tensor_form\u001b[0;34m(self)\u001b[0m\n\u001b[1;32m     44\u001b[0m                 \u001b[0mself\u001b[0m\u001b[0;34m.\u001b[0m\u001b[0mw2_m\u001b[0m \u001b[0;34m*\u001b[0m \u001b[0mtorch\u001b[0m\u001b[0;34m.\u001b[0m\u001b[0mones\u001b[0m\u001b[0;34m(\u001b[0m\u001b[0;36m1\u001b[0m\u001b[0;34m)\u001b[0m\u001b[0;34m,\u001b[0m\u001b[0;34m\u001b[0m\u001b[0m\n\u001b[1;32m     45\u001b[0m                 \u001b[0mself\u001b[0m\u001b[0;34m.\u001b[0m\u001b[0mb2_m\u001b[0m \u001b[0;34m*\u001b[0m \u001b[0mtorch\u001b[0m\u001b[0;34m.\u001b[0m\u001b[0mones\u001b[0m\u001b[0;34m(\u001b[0m\u001b[0;36m1\u001b[0m\u001b[0;34m)\u001b[0m\u001b[0;34m,\u001b[0m\u001b[0;34m\u001b[0m\u001b[0m\n\u001b[0;32m---> 46\u001b[0;31m                 \u001b[0mF\u001b[0m\u001b[0;34m.\u001b[0m\u001b[0msoftplus\u001b[0m\u001b[0;34m(\u001b[0m\u001b[0mself\u001b[0m\u001b[0;34m.\u001b[0m\u001b[0mw1_s\u001b[0m \u001b[0;34m*\u001b[0m \u001b[0mtorch\u001b[0m\u001b[0;34m.\u001b[0m\u001b[0mones\u001b[0m\u001b[0;34m(\u001b[0m\u001b[0;36m1\u001b[0m\u001b[0;34m)\u001b[0m\u001b[0;34m)\u001b[0m\u001b[0;34m,\u001b[0m\u001b[0;34m\u001b[0m\u001b[0m\n\u001b[0m\u001b[1;32m     47\u001b[0m                 \u001b[0mF\u001b[0m\u001b[0;34m.\u001b[0m\u001b[0msoftplus\u001b[0m\u001b[0;34m(\u001b[0m\u001b[0mself\u001b[0m\u001b[0;34m.\u001b[0m\u001b[0mb1_s\u001b[0m \u001b[0;34m*\u001b[0m \u001b[0mtorch\u001b[0m\u001b[0;34m.\u001b[0m\u001b[0mones\u001b[0m\u001b[0;34m(\u001b[0m\u001b[0;36m1\u001b[0m\u001b[0;34m)\u001b[0m\u001b[0;34m)\u001b[0m\u001b[0;34m,\u001b[0m\u001b[0;34m\u001b[0m\u001b[0m\n\u001b[1;32m     48\u001b[0m                 \u001b[0mF\u001b[0m\u001b[0;34m.\u001b[0m\u001b[0msoftplus\u001b[0m\u001b[0;34m(\u001b[0m\u001b[0mself\u001b[0m\u001b[0;34m.\u001b[0m\u001b[0mw2_s\u001b[0m \u001b[0;34m*\u001b[0m \u001b[0mtorch\u001b[0m\u001b[0;34m.\u001b[0m\u001b[0mones\u001b[0m\u001b[0;34m(\u001b[0m\u001b[0;36m1\u001b[0m\u001b[0;34m)\u001b[0m\u001b[0;34m)\u001b[0m\u001b[0;34m,\u001b[0m\u001b[0;34m\u001b[0m\u001b[0m\n",
      "\u001b[0;31mKeyboardInterrupt\u001b[0m: "
     ]
    }
   ],
   "source": [
    "# Hyperparameters\n",
    "HYPERSPHERICAL = True\n",
    "DIM = 6\n",
    "\n",
    "# Take best of many random restarts\n",
    "best_elbo = -1000\n",
    "best_hist = None\n",
    "best_model = None\n",
    "random_restarts = 20\n",
    "for _ in range(random_restarts):\n",
    "    \n",
    "    # model = HypersphericalNet()\n",
    "    \n",
    "    # Optimization\n",
    "    lr = 1e-10\n",
    "    optimizer = torch.optim.SGD(model.get_params(), lr=lr)\n",
    "    \n",
    "    # Run VI\n",
    "    model, elbo, hist = BBB(X_train, Y_train, model, optimizer, num_samples=11,\n",
    "                            print_every=11, epochs=int(5e4))\n",
    "    \n",
    "    # Statistics\n",
    "    display.clear_output()\n",
    "    if elbo > best_elbo:\n",
    "        best_elbo = elbo\n",
    "        best_hist = hist\n",
    "        best_model = model\n",
    "        print('---> Model with new best ELBO (lr={:.3f}): {:.2f}'.format(lr, best_elbo))\n",
    "    else:\n",
    "        print('     Model with ELBO (lr={:.2f},best={:.2f}): {:.2f}'.format(lr, best_elbo, elbo))"
   ]
  },
  {
   "cell_type": "code",
   "execution_count": 80,
   "metadata": {
    "collapsed": true
   },
   "outputs": [
    {
     "data": {
      "image/png": "[encoded data removed]",
      "text/plain": [
       "<Figure size 864x576 with 1 Axes>"
      ]
     },
     "metadata": {
      "needs_background": "light"
     },
     "output_type": "display_data"
    }
   ],
   "source": [
    "def plot_samples(model, n_samples=100):\n",
    "    '''Plot samples from '''\n",
    "    preds = []\n",
    "    for _ in range(n_samples):\n",
    "        samples = model.sample_weights()\n",
    "        pred = model(X_range, samples)\n",
    "        preds.append(to_numpy(pred))\n",
    "    preds = np.concatenate(preds, axis=1)\n",
    "    bound = int(n_samples * 0.05)\n",
    "    preds_95 = (np.sort(preds, axis=1)[:, bound], np.sort(preds, axis=1)[:,-bound])\n",
    "    mean = np.mean(preds, axis=1)\n",
    "\n",
    "    # Plot\n",
    "    plt.gca().set_title('BBB for BNN and Gaussian prior')\n",
    "    plt.gca().fill_between(X_range.reshape(-1), preds_95[1], preds_95[0], color=\"#cccccc\")\n",
    "    plt.scatter(X_train, Y_train, color='black', marker='o')\n",
    "    plt.plot(to_numpy(X_range), mean)\n",
    "    plt.show() # plt.axis([-5,5,-8,8])\n",
    "    \n",
    "# Sample from distribution over networks\n",
    "model = best_model if best_model else model\n",
    "plot_samples(model)"
   ]
  },
  {
   "cell_type": "code",
   "execution_count": 93,
   "metadata": {},
   "outputs": [
    {
     "name": "stdout",
     "output_type": "stream",
     "text": [
      "tensor(3351.1724, grad_fn=<NegBackward>)\n",
      "tensor(1219.1250, grad_fn=<NegBackward>)\n",
      "tensor(924.8390, grad_fn=<NegBackward>)\n",
      "tensor(776.6685, grad_fn=<NegBackward>)\n",
      "tensor(728.1348, grad_fn=<NegBackward>)\n",
      "tensor(720.8295, grad_fn=<NegBackward>)\n",
      "tensor(720.3536, grad_fn=<NegBackward>)\n",
      "tensor(720.3342, grad_fn=<NegBackward>)\n",
      "tensor(720.3342, grad_fn=<NegBackward>)\n",
      "tensor(720.3341, grad_fn=<NegBackward>)\n"
     ]
    },
    {
     "data": {
      "text/plain": [
       "<matplotlib.collections.PathCollection at 0x7fa4c59f54e0>"
      ]
     },
     "execution_count": 93,
     "metadata": {},
     "output_type": "execute_result"
    },
    {
     "data": {
      "image/png": "[encoded data removed]",
      "text/plain": [
       "<Figure size 864x576 with 1 Axes>"
      ]
     },
     "metadata": {
      "needs_background": "light"
     },
     "output_type": "display_data"
    }
   ],
   "source": [
    "model = HypersphericalNet()\n",
    "opt = optim.Adam(model.get_params(), lr=1e-3, weight_decay=100)\n",
    "for i in range(10000):\n",
    "    # train\n",
    "    opt.zero_grad()\n",
    "    out = model.fwd_not_bayes(X_train)\n",
    "    loss = - Normal(out.squeeze(), 0.1*torch.ones(X_train.shape[0])).log_prob(Y_train.squeeze()).sum()\n",
    "    loss.backward()\n",
    "    opt.step()\n",
    "    if i % 1000 == 0: print(loss)\n",
    "\n",
    "Y_range = model.fwd_not_bayes(X_range)\n",
    "plt.plot(to_numpy(X_range), to_numpy(Y_range))\n",
    "plt.scatter(to_numpy(X_train), to_numpy(Y_train))"
   ]
  },
  {
   "cell_type": "code",
   "execution_count": null,
   "metadata": {},
   "outputs": [],
   "source": []
  }
 ],
 "metadata": {
  "accelerator": "GPU",
  "colab": {
   "collapsed_sections": [],
   "name": "HW1",
   "provenance": [],
   "version": "0.3.2"
  },
  "kernelspec": {
   "display_name": "Python 3",
   "language": "python",
   "name": "python3"
  },
  "language_info": {
   "codemirror_mode": {
    "name": "ipython",
    "version": 3
   },
   "file_extension": ".py",
   "mimetype": "text/x-python",
   "name": "python",
   "nbconvert_exporter": "python",
   "pygments_lexer": "ipython3",
   "version": "3.6.6"
  }
 },
 "nbformat": 4,
 "nbformat_minor": 1
}
