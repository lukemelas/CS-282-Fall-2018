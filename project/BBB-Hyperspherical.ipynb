{
 "cells": [
  {
   "cell_type": "markdown",
   "metadata": {},
   "source": [
    "#### Libraries"
   ]
  },
  {
   "cell_type": "code",
   "execution_count": 1,
   "metadata": {},
   "outputs": [],
   "source": [
    "from distributions import VonMisesFisher, HypersphericalUniform"
   ]
  },
  {
   "cell_type": "code",
   "execution_count": 5,
   "metadata": {},
   "outputs": [
    {
     "name": "stdout",
     "output_type": "stream",
     "text": [
      "tensor([[-0.3555, -0.2160, -0.1837,  0.4650, -0.5348,  0.0266,  0.5280,  0.1069]])\n",
      "MEW INIT\n"
     ]
    }
   ],
   "source": [
    "l = torch.randn(1,8)\n",
    "l = l / l.norm(dim=-1, keepdim=True)\n",
    "print(l)\n",
    "s = torch.ones(1)\n",
    "d = VonMisesFisher(l,s)"
   ]
  },
  {
   "cell_type": "code",
   "execution_count": 6,
   "metadata": {},
   "outputs": [
    {
     "name": "stdout",
     "output_type": "stream",
     "text": [
      "tensor([-0.1235])\n"
     ]
    },
    {
     "ename": "TypeError",
     "evalue": "view() missing 1 required positional arguments: \"size\"",
     "output_type": "error",
     "traceback": [
      "\u001b[0;31m---------------------------------------------------------------------------\u001b[0m",
      "\u001b[0;31mTypeError\u001b[0m                                 Traceback (most recent call last)",
      "\u001b[0;32m<ipython-input-6-2e3302e0d3e6>\u001b[0m in \u001b[0;36m<module>\u001b[0;34m()\u001b[0m\n\u001b[0;32m----> 1\u001b[0;31m \u001b[0md\u001b[0m\u001b[0;34m.\u001b[0m\u001b[0mentropy\u001b[0m\u001b[0;34m(\u001b[0m\u001b[0;34m)\u001b[0m\u001b[0;34m\u001b[0m\u001b[0m\n\u001b[0m",
      "\u001b[0;32m~/282/project/distributions/von_mises_fisher.py\u001b[0m in \u001b[0;36mentropy\u001b[0;34m(self)\u001b[0m\n\u001b[1;32m    110\u001b[0m         \u001b[0moutput\u001b[0m \u001b[0;34m=\u001b[0m \u001b[0;34m-\u001b[0m \u001b[0mself\u001b[0m\u001b[0;34m.\u001b[0m\u001b[0mscale\u001b[0m \u001b[0;34m*\u001b[0m \u001b[0mive\u001b[0m\u001b[0;34m(\u001b[0m\u001b[0mself\u001b[0m\u001b[0;34m.\u001b[0m\u001b[0m__m\u001b[0m \u001b[0;34m/\u001b[0m \u001b[0;36m2\u001b[0m\u001b[0;34m,\u001b[0m \u001b[0mself\u001b[0m\u001b[0;34m.\u001b[0m\u001b[0mscale\u001b[0m\u001b[0;34m)\u001b[0m \u001b[0;34m/\u001b[0m \u001b[0mive\u001b[0m\u001b[0;34m(\u001b[0m\u001b[0;34m(\u001b[0m\u001b[0mself\u001b[0m\u001b[0;34m.\u001b[0m\u001b[0m__m\u001b[0m \u001b[0;34m/\u001b[0m \u001b[0;36m2\u001b[0m\u001b[0;34m)\u001b[0m \u001b[0;34m-\u001b[0m \u001b[0;36m1\u001b[0m\u001b[0;34m,\u001b[0m \u001b[0mself\u001b[0m\u001b[0;34m.\u001b[0m\u001b[0mscale\u001b[0m\u001b[0;34m)\u001b[0m\u001b[0;34m\u001b[0m\u001b[0m\n\u001b[1;32m    111\u001b[0m         \u001b[0mprint\u001b[0m\u001b[0;34m(\u001b[0m\u001b[0moutput\u001b[0m\u001b[0;34m)\u001b[0m\u001b[0;34m\u001b[0m\u001b[0m\n\u001b[0;32m--> 112\u001b[0;31m         \u001b[0;32mreturn\u001b[0m \u001b[0moutput\u001b[0m\u001b[0;34m.\u001b[0m\u001b[0mview\u001b[0m\u001b[0;34m(\u001b[0m\u001b[0;34m*\u001b[0m\u001b[0;34m(\u001b[0m\u001b[0moutput\u001b[0m\u001b[0;34m.\u001b[0m\u001b[0mshape\u001b[0m\u001b[0;34m[\u001b[0m\u001b[0;34m:\u001b[0m\u001b[0;34m-\u001b[0m\u001b[0;36m1\u001b[0m\u001b[0;34m]\u001b[0m\u001b[0;34m)\u001b[0m\u001b[0;34m)\u001b[0m \u001b[0;34m+\u001b[0m \u001b[0mself\u001b[0m\u001b[0;34m.\u001b[0m\u001b[0m_log_normalization\u001b[0m\u001b[0;34m(\u001b[0m\u001b[0;34m)\u001b[0m\u001b[0;34m\u001b[0m\u001b[0m\n\u001b[0m\u001b[1;32m    113\u001b[0m \u001b[0;34m\u001b[0m\u001b[0m\n\u001b[1;32m    114\u001b[0m     \u001b[0;32mdef\u001b[0m \u001b[0mlog_prob\u001b[0m\u001b[0;34m(\u001b[0m\u001b[0mself\u001b[0m\u001b[0;34m,\u001b[0m \u001b[0mx\u001b[0m\u001b[0;34m)\u001b[0m\u001b[0;34m:\u001b[0m\u001b[0;34m\u001b[0m\u001b[0m\n",
      "\u001b[0;31mTypeError\u001b[0m: view() missing 1 required positional arguments: \"size\""
     ]
    }
   ],
   "source": [
    "d.entropy()"
   ]
  },
  {
   "cell_type": "code",
   "execution_count": 48,
   "metadata": {},
   "outputs": [],
   "source": []
  },
  {
   "cell_type": "code",
   "execution_count": null,
   "metadata": {},
   "outputs": [],
   "source": []
  },
  {
   "cell_type": "code",
   "execution_count": null,
   "metadata": {},
   "outputs": [],
   "source": []
  },
  {
   "cell_type": "code",
   "execution_count": null,
   "metadata": {},
   "outputs": [],
   "source": []
  },
  {
   "cell_type": "code",
   "execution_count": null,
   "metadata": {},
   "outputs": [],
   "source": []
  },
  {
   "cell_type": "code",
   "execution_count": 1,
   "metadata": {
    "colab": {},
    "colab_type": "code",
    "id": "bFcDtGyVhNL3"
   },
   "outputs": [],
   "source": [
    "import copy, time\n",
    "import random\n",
    "import pdb\n",
    "\n",
    "import numpy as np\n",
    "import matplotlib\n",
    "import matplotlib.pyplot as plt\n",
    "\n",
    "import torch\n",
    "import torch.nn as nn\n",
    "import torch.optim as optim\n",
    "import torch.nn.functional as F\n",
    "from torch.distributions.normal import Normal"
   ]
  },
  {
   "cell_type": "code",
   "execution_count": 32,
   "metadata": {
    "colab": {},
    "colab_type": "code",
    "id": "786-fkD-4wtk"
   },
   "outputs": [],
   "source": [
    "from IPython import display\n",
    "matplotlib.rcParams['figure.figsize'] = [12,8]"
   ]
  },
  {
   "cell_type": "markdown",
   "metadata": {},
   "source": [
    "#### Generic Utils "
   ]
  },
  {
   "cell_type": "code",
   "execution_count": 3,
   "metadata": {},
   "outputs": [],
   "source": [
    "class AverageMeter(object):\n",
    "    \"\"\"Computes and stores the average and current value. \n",
    "       Also stores a rolling average of size roll_len.\"\"\"\n",
    "    def __init__(self, roll_len=100):\n",
    "        self.reset()\n",
    "        self.roll_len = roll_len\n",
    "        self.roll = []\n",
    "\n",
    "    def reset(self):\n",
    "        self.val = 0; self.avg = 0; self.sum = 0; self.count = 0; self.roll = []; self.roll_avg = 0\n",
    "\n",
    "    def update(self, val, n=1):\n",
    "        self.val = val; self.sum += val * n; self.count += n\n",
    "        self.avg = self.sum / self.count\n",
    "        self.roll = (self.roll + [val] * n)[-self.roll_len:]\n",
    "        self.roll_avg = sum(self.roll) / len(self.roll)\n",
    "        \n",
    "def check(val, msg):\n",
    "    '''Checks whether val is nan or inf and prints msg if True'''\n",
    "    if (val * 0 != 0): print(msg); pdb.set_trace()\n",
    "        \n",
    "def to_numpy(t):\n",
    "    '''PyTorch tensor to numpy array'''\n",
    "    return t.detach().to('cpu').numpy()"
   ]
  },
  {
   "cell_type": "markdown",
   "metadata": {},
   "source": [
    "#### Data "
   ]
  },
  {
   "cell_type": "code",
   "execution_count": 51,
   "metadata": {},
   "outputs": [
    {
     "data": {
      "text/plain": [
       "tensor([0.5000, 0.5000, 0.5000, 0.5000])"
      ]
     },
     "execution_count": 51,
     "metadata": {},
     "output_type": "execute_result"
    }
   ],
   "source": [
    "torch.ones(4).clamp(0,.5)"
   ]
  },
  {
   "cell_type": "code",
   "execution_count": 64,
   "metadata": {},
   "outputs": [
    {
     "data": {
      "image/png": "[encoded data removed]",
      "text/plain": [
       "<Figure size 864x576 with 1 Axes>"
      ]
     },
     "metadata": {
      "needs_background": "light"
     },
     "output_type": "display_data"
    }
   ],
   "source": [
    "# Data generated according to:\n",
    "# https://pdfs.semanticscholar.org/6197/dbd691037a412b67df688541df7c9ae87c0d.pdf\n",
    "torch.manual_seed(14)\n",
    "N = 50\n",
    "X = (torch.randn(N,1) * 2).clamp(-4,4)\n",
    "Y = (1 + X) * torch.sin(10 * torch.tanh(X)) + torch.randn(N,1) * 0.2\n",
    "X_range = torch.arange(-6,6,0.01).reshape(-1,1)\n",
    "plt.scatter(X.cpu().numpy(),Y.cpu().numpy())\n",
    "plt.axis([-6,6,-4,3])\n",
    "plt.show()"
   ]
  },
  {
   "cell_type": "markdown",
   "metadata": {
    "colab_type": "text",
    "id": "MzwOQHbZ6Xnz"
   },
   "source": [
    "#### Model"
   ]
  },
  {
   "cell_type": "code",
   "execution_count": 130,
   "metadata": {
    "colab": {},
    "colab_type": "code",
    "id": "E3MDmD-J6YGR"
   },
   "outputs": [],
   "source": [
    "class FlatNet(nn.Module):\n",
    "    def __init__(self, layers):\n",
    "        super(FlatNet, self).__init__()\n",
    "        self.layers = layers\n",
    "        self.W_ids = [] # will hold indices of weights\n",
    "        self.B_ids = [] # will hold incides of biases\n",
    "        \n",
    "        # Count total number of parameters and split into weights, biases\n",
    "        ptr = 0 # current parameter\n",
    "        for i in range(len(layers)-1):\n",
    "            w_size = layers[i] * layers[i+1]\n",
    "            b_size = layers[i+1]\n",
    "            self.W_ids.append([ptr, ptr + w_size])\n",
    "            self.B_ids.append([ptr + w_size, ptr + w_size + b_size])\n",
    "            ptr += w_size + b_size\n",
    "        self.N = ptr # total number of parameters\n",
    "        \n",
    "        # Create and initialize parameters\n",
    "        self.lambdas = nn.Parameter(torch.zeros(2 * self.N))\n",
    "        self.lambdas.data[:self.N].normal_(0.01)  # means\n",
    "        self.lambdas.data[self.N:].uniform_(0,0.01) # log standard deviations\n",
    "        \n",
    "    def get_means(self):\n",
    "        return self.lambdas[:self.N]\n",
    "\n",
    "    def get_stdvs(self):\n",
    "        return F.softplus(model.lambdas[self.N:])\n",
    "\n",
    "    def forward(self, x, sample):\n",
    "        '''Unroll network and forward pass'''\n",
    "        dim = 1\n",
    "        for i in range(len(self.W_ids)):\n",
    "            w = sample[self.W_ids[i][0]:self.W_ids[i][1]].reshape(dim, -1)\n",
    "            b = sample[self.B_ids[i][0]:self.B_ids[i][1]].reshape(1,-1)\n",
    "            dim = w.shape[1]\n",
    "            \n",
    "            x = x @ w + b\n",
    "            x = nn.functional.relu(x) if i != len(self.W_ids)-1 else x\n",
    "            # x = torch.exp(-x*x) if i != len(self.W_ids)-1 else x\n",
    "            \n",
    "        return x"
   ]
  },
  {
   "cell_type": "code",
   "execution_count": 131,
   "metadata": {},
   "outputs": [],
   "source": [
    "def BBB(x, y, model, optimizer, num_samples=1, epochs=int(1e5), \n",
    "        noise_std=0.1, prior_std=1.0, seed=None, print_every=500):\n",
    "    '''Performs black-box variational inference'''\n",
    "    torch.manual_seed(seed if seed else random.randint(0,1000))\n",
    "        \n",
    "    # Track ELBO statistics\n",
    "    elbo_meter = AverageMeter(100)\n",
    "    elbo_hist = []\n",
    "    \n",
    "    # Prior\n",
    "    p_dist = Normal(torch.zeros(model.N), prior_std * torch.ones(model.N)) \n",
    "    \n",
    "    for ix_e in range(epochs):\n",
    "        for ix_s in range(num_samples):\n",
    "            \n",
    "            # Distributions\n",
    "            q_dist = Normal(model.get_means(), model.get_stdvs())\n",
    "\n",
    "            # Sample weights\n",
    "            sample = q_dist.rsample()\n",
    "                        \n",
    "            # Likelihood\n",
    "            y_hat = model.forward(x, sample)\n",
    "            log_l = Normal(y_hat.squeeze(), noise_std * torch.ones(x.shape[0])).log_prob(y.squeeze()).sum()\n",
    "            \n",
    "            # Regularization\n",
    "            log_p = p_dist.log_prob(sample).sum()\n",
    "            log_q = q_dist.log_prob(sample).sum()\n",
    "            \n",
    "            # ELBO = log likelihood + log p - log q\n",
    "            elbo = (log_l + log_p - log_q).squeeze()\n",
    "            loss = - elbo / num_samples\n",
    "            \n",
    "            # Store gradients\n",
    "            optimizer.zero_grad()\n",
    "            loss.backward()\n",
    "                \n",
    "            # Update ELBO statistics\n",
    "            elbo_meter.update(elbo.item())\n",
    "            elbo_hist.append(elbo.item())\n",
    "        \n",
    "        # Step gradient\n",
    "        optimizer.step()\n",
    "\n",
    "        # Print statistics\n",
    "        if print_every > 0 and ix_e % print_every == 10: \n",
    "            print('{:5d} | ELBO {:6.0f} | Rolling: {:6.0f}'.format(\n",
    "                ix_e, elbo_meter.avg, elbo_meter.roll_avg))\n",
    "\n",
    "    return model, elbo_meter.roll_avg, elbo_hist"
   ]
  },
  {
   "cell_type": "code",
   "execution_count": 133,
   "metadata": {
    "scrolled": true
   },
   "outputs": [
    {
     "name": "stdout",
     "output_type": "stream",
     "text": [
      "   10 | ELBO -58136987 | Rolling: -60216133\n",
      "  110 | ELBO -56768211 | Rolling: -47517495\n",
      "  210 | ELBO -53623468 | Rolling: -49066199\n"
     ]
    },
    {
     "ename": "KeyboardInterrupt",
     "evalue": "",
     "output_type": "error",
     "traceback": [
      "\u001b[0;31m---------------------------------------------------------------------------\u001b[0m",
      "\u001b[0;31mKeyboardInterrupt\u001b[0m                         Traceback (most recent call last)",
      "\u001b[0;32m<ipython-input-133-fb7c3520ac03>\u001b[0m in \u001b[0;36m<module>\u001b[0;34m()\u001b[0m\n\u001b[1;32m      8\u001b[0m     \u001b[0mlr\u001b[0m \u001b[0;34m=\u001b[0m \u001b[0;36m1e-3\u001b[0m \u001b[0;31m# (torch.randn(1)*3e-5 + 1e-4).item() # random learning rate\u001b[0m\u001b[0;34m\u001b[0m\u001b[0m\n\u001b[1;32m      9\u001b[0m     \u001b[0moptimizer\u001b[0m \u001b[0;34m=\u001b[0m \u001b[0mtorch\u001b[0m\u001b[0;34m.\u001b[0m\u001b[0moptim\u001b[0m\u001b[0;34m.\u001b[0m\u001b[0mAdam\u001b[0m\u001b[0;34m(\u001b[0m\u001b[0mmodel\u001b[0m\u001b[0;34m.\u001b[0m\u001b[0mparameters\u001b[0m\u001b[0;34m(\u001b[0m\u001b[0;34m)\u001b[0m\u001b[0;34m,\u001b[0m \u001b[0mlr\u001b[0m\u001b[0;34m=\u001b[0m\u001b[0mlr\u001b[0m\u001b[0;34m)\u001b[0m\u001b[0;34m\u001b[0m\u001b[0m\n\u001b[0;32m---> 10\u001b[0;31m     \u001b[0mmodel\u001b[0m\u001b[0;34m,\u001b[0m \u001b[0melbo\u001b[0m\u001b[0;34m,\u001b[0m \u001b[0mhist\u001b[0m \u001b[0;34m=\u001b[0m \u001b[0mBBB\u001b[0m\u001b[0;34m(\u001b[0m\u001b[0mX\u001b[0m\u001b[0;34m,\u001b[0m \u001b[0mY\u001b[0m\u001b[0;34m,\u001b[0m \u001b[0mmodel\u001b[0m\u001b[0;34m,\u001b[0m \u001b[0moptimizer\u001b[0m\u001b[0;34m,\u001b[0m \u001b[0mnum_samples\u001b[0m\u001b[0;34m=\u001b[0m\u001b[0;36m20\u001b[0m\u001b[0;34m,\u001b[0m \u001b[0mprint_every\u001b[0m\u001b[0;34m=\u001b[0m\u001b[0;36m100\u001b[0m\u001b[0;34m,\u001b[0m \u001b[0mepochs\u001b[0m\u001b[0;34m=\u001b[0m\u001b[0mint\u001b[0m\u001b[0;34m(\u001b[0m\u001b[0;36m2e3\u001b[0m\u001b[0;34m)\u001b[0m\u001b[0;34m)\u001b[0m\u001b[0;34m\u001b[0m\u001b[0m\n\u001b[0m\u001b[1;32m     11\u001b[0m     \u001b[0mdisplay\u001b[0m\u001b[0;34m.\u001b[0m\u001b[0mclear_output\u001b[0m\u001b[0;34m(\u001b[0m\u001b[0;34m)\u001b[0m\u001b[0;34m\u001b[0m\u001b[0m\n\u001b[1;32m     12\u001b[0m     \u001b[0;32mif\u001b[0m \u001b[0melbo\u001b[0m \u001b[0;34m>\u001b[0m \u001b[0mbest_elbo\u001b[0m\u001b[0;34m:\u001b[0m\u001b[0;34m\u001b[0m\u001b[0m\n",
      "\u001b[0;32m<ipython-input-131-70b936e27c69>\u001b[0m in \u001b[0;36mBBB\u001b[0;34m(x, y, model, optimizer, num_samples, epochs, noise_std, prior_std, seed, print_every)\u001b[0m\n\u001b[1;32m     34\u001b[0m             \u001b[0;31m# Store gradients\u001b[0m\u001b[0;34m\u001b[0m\u001b[0;34m\u001b[0m\u001b[0m\n\u001b[1;32m     35\u001b[0m             \u001b[0moptimizer\u001b[0m\u001b[0;34m.\u001b[0m\u001b[0mzero_grad\u001b[0m\u001b[0;34m(\u001b[0m\u001b[0;34m)\u001b[0m\u001b[0;34m\u001b[0m\u001b[0m\n\u001b[0;32m---> 36\u001b[0;31m             \u001b[0mloss\u001b[0m\u001b[0;34m.\u001b[0m\u001b[0mbackward\u001b[0m\u001b[0;34m(\u001b[0m\u001b[0;34m)\u001b[0m\u001b[0;34m\u001b[0m\u001b[0m\n\u001b[0m\u001b[1;32m     37\u001b[0m \u001b[0;34m\u001b[0m\u001b[0m\n\u001b[1;32m     38\u001b[0m             \u001b[0;31m# Update ELBO statistics\u001b[0m\u001b[0;34m\u001b[0m\u001b[0;34m\u001b[0m\u001b[0m\n",
      "\u001b[0;32m~/miniconda3/envs/py/lib/python3.7/site-packages/torch/tensor.py\u001b[0m in \u001b[0;36mbackward\u001b[0;34m(self, gradient, retain_graph, create_graph)\u001b[0m\n\u001b[1;32m     91\u001b[0m                 \u001b[0mproducts\u001b[0m\u001b[0;34m.\u001b[0m \u001b[0mDefaults\u001b[0m \u001b[0mto\u001b[0m\u001b[0;31m \u001b[0m\u001b[0;31m`\u001b[0m\u001b[0;31m`\u001b[0m\u001b[0;32mFalse\u001b[0m\u001b[0;31m`\u001b[0m\u001b[0;31m`\u001b[0m\u001b[0;34m.\u001b[0m\u001b[0;34m\u001b[0m\u001b[0m\n\u001b[1;32m     92\u001b[0m         \"\"\"\n\u001b[0;32m---> 93\u001b[0;31m         \u001b[0mtorch\u001b[0m\u001b[0;34m.\u001b[0m\u001b[0mautograd\u001b[0m\u001b[0;34m.\u001b[0m\u001b[0mbackward\u001b[0m\u001b[0;34m(\u001b[0m\u001b[0mself\u001b[0m\u001b[0;34m,\u001b[0m \u001b[0mgradient\u001b[0m\u001b[0;34m,\u001b[0m \u001b[0mretain_graph\u001b[0m\u001b[0;34m,\u001b[0m \u001b[0mcreate_graph\u001b[0m\u001b[0;34m)\u001b[0m\u001b[0;34m\u001b[0m\u001b[0m\n\u001b[0m\u001b[1;32m     94\u001b[0m \u001b[0;34m\u001b[0m\u001b[0m\n\u001b[1;32m     95\u001b[0m     \u001b[0;32mdef\u001b[0m \u001b[0mregister_hook\u001b[0m\u001b[0;34m(\u001b[0m\u001b[0mself\u001b[0m\u001b[0;34m,\u001b[0m \u001b[0mhook\u001b[0m\u001b[0;34m)\u001b[0m\u001b[0;34m:\u001b[0m\u001b[0;34m\u001b[0m\u001b[0m\n",
      "\u001b[0;32m~/miniconda3/envs/py/lib/python3.7/site-packages/torch/autograd/__init__.py\u001b[0m in \u001b[0;36mbackward\u001b[0;34m(tensors, grad_tensors, retain_graph, create_graph, grad_variables)\u001b[0m\n\u001b[1;32m     88\u001b[0m     Variable._execution_engine.run_backward(\n\u001b[1;32m     89\u001b[0m         \u001b[0mtensors\u001b[0m\u001b[0;34m,\u001b[0m \u001b[0mgrad_tensors\u001b[0m\u001b[0;34m,\u001b[0m \u001b[0mretain_graph\u001b[0m\u001b[0;34m,\u001b[0m \u001b[0mcreate_graph\u001b[0m\u001b[0;34m,\u001b[0m\u001b[0;34m\u001b[0m\u001b[0m\n\u001b[0;32m---> 90\u001b[0;31m         allow_unreachable=True)  # allow_unreachable flag\n\u001b[0m\u001b[1;32m     91\u001b[0m \u001b[0;34m\u001b[0m\u001b[0m\n\u001b[1;32m     92\u001b[0m \u001b[0;34m\u001b[0m\u001b[0m\n",
      "\u001b[0;31mKeyboardInterrupt\u001b[0m: "
     ]
    }
   ],
   "source": [
    "# Model and optimization with many random restarts\n",
    "best_elbo = -1000\n",
    "best_hist = None\n",
    "best_model = None\n",
    "random_restarts = 20\n",
    "for _ in range(random_restarts):\n",
    "    model = FlatNet([1,100,100,1])\n",
    "    lr = 1e-3 # (torch.randn(1)*3e-5 + 1e-4).item() # random learning rate\n",
    "    optimizer = torch.optim.Adam(model.parameters(), lr=lr)\n",
    "    model, elbo, hist = BBB(X, Y, model, optimizer, num_samples=20, print_every=100, epochs=int(2e3))\n",
    "    display.clear_output()\n",
    "    if elbo > best_elbo:\n",
    "        best_elbo = elbo\n",
    "        best_hist = hist\n",
    "        best_model = model\n",
    "        print('---> Model with new best ELBO (lr={:.3f}): {:.2f}'.format(lr, best_elbo))\n",
    "    else:\n",
    "        print('     Model with ELBO (lr={:.2f},best={:.2f}): {:.2f}'.format(lr, best_elbo, elbo))"
   ]
  },
  {
   "cell_type": "code",
   "execution_count": 121,
   "metadata": {
    "scrolled": false
   },
   "outputs": [
    {
     "data": {
      "image/png": "[encoded data removed]",
      "text/plain": [
       "<Figure size 864x576 with 1 Axes>"
      ]
     },
     "metadata": {
      "needs_background": "light"
     },
     "output_type": "display_data"
    }
   ],
   "source": [
    "# Sample from distribution over networks\n",
    "model = best_model if best_model else model\n",
    "preds = [model(X_range, Normal(model.get_means(), model.get_stdvs()).sample()) for _ in range(1000)]\n",
    "preds = np.concatenate(preds, axis=1)\n",
    "bounds = (np.sort(preds, axis=1)[:, 50], np.sort(preds, axis=1)[:,-50])\n",
    "mean = np.mean(preds, axis=1)\n",
    "\n",
    "# Plot\n",
    "plt.gca().set_title('BBB for BNN and Gaussian prior')\n",
    "plt.gca().fill_between(X_range.reshape(-1), bounds[1], bounds[0], color=\"#cccccc\")\n",
    "plt.scatter(X, Y, color='black', marker='o')\n",
    "plt.plot(to_numpy(X_range), mean)\n",
    "plt.show() # plt.axis([-5,5,-8,8])"
   ]
  },
  {
   "cell_type": "code",
   "execution_count": 53,
   "metadata": {
    "collapsed": true
   },
   "outputs": [
    {
     "data": {
      "text/plain": [
       "[<matplotlib.lines.Line2D at 0x7efbfc1cab38>]"
      ]
     },
     "execution_count": 53,
     "metadata": {},
     "output_type": "execute_result"
    },
    {
     "data": {
      "image/png": "[encoded data removed]",
      "text/plain": [
       "<Figure size 1872x576 with 1 Axes>"
      ]
     },
     "metadata": {
      "needs_background": "light"
     },
     "output_type": "display_data"
    }
   ],
   "source": [
    "# Plot the ELBO\n",
    "plt.title('ELBO vs Iteration')\n",
    "plt.xlabel('Iteration')\n",
    "plt.ylabel('ELBO')\n",
    "plt.plot(best_hist)"
   ]
  },
  {
   "cell_type": "code",
   "execution_count": 83,
   "metadata": {
    "collapsed": true
   },
   "outputs": [
    {
     "name": "stdout",
     "output_type": "stream",
     "text": [
      "+0.2423 | +5.6608\n",
      "+0.6297 | +5.2286\n",
      "-0.6628 | +4.7155\n",
      "-0.3765 | +4.0678\n",
      "-1.7970 | +4.6753\n",
      "-1.9769 | +9.6733\n"
     ]
    }
   ],
   "source": [
    "# Calculate means and standard deviations of gradient updates\n",
    "gs = []\n",
    "for m in range(100):\n",
    "    model = FlatNet([1,10,1])\n",
    "    optimizer = torch.optim.SGD([model.lambdas], lr=1e-4)\n",
    "    model, elbo, hist = BBB(X, Y, model, optimizer, print_every=-1, num_samples=100, epochs=int(1))\n",
    "    gs.append(model.lambdas.grad)\n",
    "gs = torch.stack(gs, dim=1)\n",
    "for w in [1,5,7,15,21,30]:\n",
    "    print('{:+5.4f} | {:+5.4f}'.format(gs[w].mean().item(), gs[w].std().item()))"
   ]
  },
  {
   "cell_type": "code",
   "execution_count": null,
   "metadata": {},
   "outputs": [],
   "source": []
  },
  {
   "cell_type": "code",
   "execution_count": null,
   "metadata": {},
   "outputs": [],
   "source": []
  },
  {
   "cell_type": "code",
   "execution_count": null,
   "metadata": {},
   "outputs": [],
   "source": []
  }
 ],
 "metadata": {
  "accelerator": "GPU",
  "colab": {
   "collapsed_sections": [],
   "name": "HW1",
   "provenance": [],
   "version": "0.3.2"
  },
  "kernelspec": {
   "display_name": "Python 3",
   "language": "python",
   "name": "python3"
  },
  "language_info": {
   "codemirror_mode": {
    "name": "ipython",
    "version": 3
   },
   "file_extension": ".py",
   "mimetype": "text/x-python",
   "name": "python",
   "nbconvert_exporter": "python",
   "pygments_lexer": "ipython3",
   "version": "3.7.0"
  }
 },
 "nbformat": 4,
 "nbformat_minor": 1
}
